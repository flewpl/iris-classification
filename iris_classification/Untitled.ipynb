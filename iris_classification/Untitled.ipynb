{
 "cells": [
  {
   "cell_type": "code",
   "execution_count": 2,
   "id": "f39e854b",
   "metadata": {},
   "outputs": [],
   "source": [
    "import numpy as np\n",
    "import matplotlib as mp\n",
    "import pandas as pb\n",
    "from sklearn.linear_model import LogisticRegression\n",
    "from sklearn.metrics import accuracy_score\n"
   ]
  },
  {
   "cell_type": "markdown",
   "id": "b00f96b4",
   "metadata": {},
   "source": [
    "Data collection "
   ]
  },
  {
   "cell_type": "code",
   "execution_count": 14,
   "id": "1bb017ca",
   "metadata": {},
   "outputs": [],
   "source": [
    "iris_data = pb.read_csv('Iris.csv', header=None)"
   ]
  },
  {
   "cell_type": "code",
   "execution_count": 17,
   "id": "6dba5954",
   "metadata": {},
   "outputs": [
    {
     "data": {
      "text/plain": [
       "<bound method NDFrame.describe of        0              1             2              3             4  \\\n",
       "0     Id  SepalLengthCm  SepalWidthCm  PetalLengthCm  PetalWidthCm   \n",
       "1      1            5.1           3.5            1.4           0.2   \n",
       "2      2            4.9           3.0            1.4           0.2   \n",
       "3      3            4.7           3.2            1.3           0.2   \n",
       "4      4            4.6           3.1            1.5           0.2   \n",
       "..   ...            ...           ...            ...           ...   \n",
       "146  146            6.7           3.0            5.2           2.3   \n",
       "147  147            6.3           2.5            5.0           1.9   \n",
       "148  148            6.5           3.0            5.2           2.0   \n",
       "149  149            6.2           3.4            5.4           2.3   \n",
       "150  150            5.9           3.0            5.1           1.8   \n",
       "\n",
       "                  5  \n",
       "0           Species  \n",
       "1       Iris-setosa  \n",
       "2       Iris-setosa  \n",
       "3       Iris-setosa  \n",
       "4       Iris-setosa  \n",
       "..              ...  \n",
       "146  Iris-virginica  \n",
       "147  Iris-virginica  \n",
       "148  Iris-virginica  \n",
       "149  Iris-virginica  \n",
       "150  Iris-virginica  \n",
       "\n",
       "[151 rows x 6 columns]>"
      ]
     },
     "execution_count": 17,
     "metadata": {},
     "output_type": "execute_result"
    }
   ],
   "source": [
    "iris_data.value_counts()\n",
    "iris_data.shape\n",
    "iris_data.describe"
   ]
  },
  {
   "cell_type": "code",
   "execution_count": 18,
   "id": "2147ccbe",
   "metadata": {},
   "outputs": [
    {
     "data": {
      "text/plain": [
       "Iris-setosa        50\n",
       "Iris-versicolor    50\n",
       "Iris-virginica     50\n",
       "Species             1\n",
       "Name: 5, dtype: int64"
      ]
     },
     "execution_count": 18,
     "metadata": {},
     "output_type": "execute_result"
    }
   ],
   "source": [
    "iris_data[5].value_counts()"
   ]
  },
  {
   "cell_type": "code",
   "execution_count": 22,
   "id": "937a84a5",
   "metadata": {},
   "outputs": [
    {
     "name": "stderr",
     "output_type": "stream",
     "text": [
      "C:\\Users\\maxim\\AppData\\Local\\Temp\\ipykernel_15944\\547757385.py:1: FutureWarning: The default value of numeric_only in DataFrameGroupBy.mean is deprecated. In a future version, numeric_only will default to False. Either specify numeric_only or select only columns which should be valid for the function.\n",
      "  iris_data.groupby(5).mean()\n"
     ]
    },
    {
     "data": {
      "text/html": [
       "<div>\n",
       "<style scoped>\n",
       "    .dataframe tbody tr th:only-of-type {\n",
       "        vertical-align: middle;\n",
       "    }\n",
       "\n",
       "    .dataframe tbody tr th {\n",
       "        vertical-align: top;\n",
       "    }\n",
       "\n",
       "    .dataframe thead th {\n",
       "        text-align: right;\n",
       "    }\n",
       "</style>\n",
       "<table border=\"1\" class=\"dataframe\">\n",
       "  <thead>\n",
       "    <tr style=\"text-align: right;\">\n",
       "      <th></th>\n",
       "    </tr>\n",
       "    <tr>\n",
       "      <th>5</th>\n",
       "    </tr>\n",
       "  </thead>\n",
       "  <tbody>\n",
       "    <tr>\n",
       "      <th>Iris-setosa</th>\n",
       "    </tr>\n",
       "    <tr>\n",
       "      <th>Iris-versicolor</th>\n",
       "    </tr>\n",
       "    <tr>\n",
       "      <th>Iris-virginica</th>\n",
       "    </tr>\n",
       "    <tr>\n",
       "      <th>Species</th>\n",
       "    </tr>\n",
       "  </tbody>\n",
       "</table>\n",
       "</div>"
      ],
      "text/plain": [
       "Empty DataFrame\n",
       "Columns: []\n",
       "Index: [Iris-setosa, Iris-versicolor, Iris-virginica, Species]"
      ]
     },
     "execution_count": 22,
     "metadata": {},
     "output_type": "execute_result"
    }
   ],
   "source": [
    "iris_data.groupby(5).mean()"
   ]
  },
  {
   "cell_type": "code",
   "execution_count": 24,
   "id": "807f67e5",
   "metadata": {},
   "outputs": [
    {
     "name": "stdout",
     "output_type": "stream",
     "text": [
      "       0              1             2              3             4\n",
      "0     Id  SepalLengthCm  SepalWidthCm  PetalLengthCm  PetalWidthCm\n",
      "1      1            5.1           3.5            1.4           0.2\n",
      "2      2            4.9           3.0            1.4           0.2\n",
      "3      3            4.7           3.2            1.3           0.2\n",
      "4      4            4.6           3.1            1.5           0.2\n",
      "..   ...            ...           ...            ...           ...\n",
      "146  146            6.7           3.0            5.2           2.3\n",
      "147  147            6.3           2.5            5.0           1.9\n",
      "148  148            6.5           3.0            5.2           2.0\n",
      "149  149            6.2           3.4            5.4           2.3\n",
      "150  150            5.9           3.0            5.1           1.8\n",
      "\n",
      "[151 rows x 5 columns]\n",
      "0             Species\n",
      "1         Iris-setosa\n",
      "2         Iris-setosa\n",
      "3         Iris-setosa\n",
      "4         Iris-setosa\n",
      "            ...      \n",
      "146    Iris-virginica\n",
      "147    Iris-virginica\n",
      "148    Iris-virginica\n",
      "149    Iris-virginica\n",
      "150    Iris-virginica\n",
      "Name: 5, Length: 151, dtype: object\n"
     ]
    }
   ],
   "source": [
    "x = iris_data.drop(columns=5, axis=1)\n",
    "y = iris_data[5]\n",
    "print(x)\n",
    "print(y)"
   ]
  },
  {
   "cell_type": "markdown",
   "id": "e89cf07c",
   "metadata": {},
   "source": [
    "Training and test data"
   ]
  },
  {
   "cell_type": "code",
   "execution_count": null,
   "id": "2cf5cce4",
   "metadata": {},
   "outputs": [],
   "source": []
  }
 ],
 "metadata": {
  "kernelspec": {
   "display_name": "Python 3 (ipykernel)",
   "language": "python",
   "name": "python3"
  },
  "language_info": {
   "codemirror_mode": {
    "name": "ipython",
    "version": 3
   },
   "file_extension": ".py",
   "mimetype": "text/x-python",
   "name": "python",
   "nbconvert_exporter": "python",
   "pygments_lexer": "ipython3",
   "version": "3.10.10"
  },
  "varInspector": {
   "cols": {
    "lenName": 16,
    "lenType": 16,
    "lenVar": 40
   },
   "kernels_config": {
    "python": {
     "delete_cmd_postfix": "",
     "delete_cmd_prefix": "del ",
     "library": "var_list.py",
     "varRefreshCmd": "print(var_dic_list())"
    },
    "r": {
     "delete_cmd_postfix": ") ",
     "delete_cmd_prefix": "rm(",
     "library": "var_list.r",
     "varRefreshCmd": "cat(var_dic_list()) "
    }
   },
   "types_to_exclude": [
    "module",
    "function",
    "builtin_function_or_method",
    "instance",
    "_Feature"
   ],
   "window_display": false
  }
 },
 "nbformat": 4,
 "nbformat_minor": 5
}
